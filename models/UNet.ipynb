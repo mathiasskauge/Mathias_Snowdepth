{
 "cells": [
  {
   "cell_type": "code",
   "execution_count": 1,
   "id": "86e96b22",
   "metadata": {},
   "outputs": [],
   "source": [
    "import sys\n",
    "from pathlib import Path\n",
    "ROOT = Path.cwd().parent\n",
    "if str(ROOT) not in sys.path:\n",
    "    sys.path.insert(0, str(ROOT))\n",
    "\n",
    "%load_ext autoreload\n",
    "%autoreload 2"
   ]
  },
  {
   "cell_type": "code",
   "execution_count": null,
   "id": "9e24fd60",
   "metadata": {},
   "outputs": [
    {
     "name": "stdout",
     "output_type": "stream",
     "text": [
      "Using existing H5: c:\\Users\\mathi\\Documents\\Paper2\\ML_SD\\data\\h5_files\\data.h5\n"
     ]
    }
   ],
   "source": [
    "import SnowDepth.data_loader as DL\n",
    "import SnowDepth.data_splitter as DS\n",
    "import SnowDepth.DL_architecture as ARCH\n",
    "\n",
    "# Assign seed\n",
    "seed = 18\n",
    "\n",
    "# Paths\n",
    "data_dir = ROOT / \"data\" / \"tif_files\"\n",
    "h5_dir   = ROOT / \"data\" / \"h5_files\"\n",
    "h5_dir.mkdir(parents=True, exist_ok=True)\n",
    "h5_file  = h5_dir / \"data.h5\"\n",
    "\n",
    "# Build H5 files \n",
    "if not h5_file.exists():\n",
    "    DL.create_h5(str(data_dir), str(h5_dir), upper_threshold=3)\n",
    "else:\n",
    "    print(f\"Using existing H5: {h5_file}\")"
   ]
  },
  {
   "cell_type": "code",
   "execution_count": 7,
   "id": "cfa3cdc0",
   "metadata": {},
   "outputs": [
    {
     "name": "stdout",
     "output_type": "stream",
     "text": [
      "Shapes:\n",
      "  X_train: (212, 128, 128, 7)  y_train: (212, 128, 128, 1)\n",
      "  X_val:   (43, 128, 128, 7)    y_val:   (43, 128, 128, 1)\n",
      "  X_hold:  (362, 128, 128, 7)   y_hold:  (362, 128, 128, 1)\n"
     ]
    }
   ],
   "source": [
    "# --- Config ---\n",
    "HOLDOUT_AOI  = \"ID_BS\"   # change if you want a different test AOI\n",
    "VAL_FRACTION = 0.30\n",
    "SEED         = seed\n",
    "\n",
    "# --- H5 path ---\n",
    "h5_file = Path(h5_dir) / \"data.h5\"\n",
    "assert h5_file.exists(), f\"Missing H5 file: {h5_file}\"\n",
    "\n",
    "(X_train, y_train), (X_val, y_val), (X_hold, y_hold) = DS.dl_unet_split(\n",
    "    h5_path=str(h5_file),\n",
    "    holdout_aoi=\"ID_BS\",\n",
    "    val_fraction=0.30,\n",
    "    seed=seed,\n",
    "    patch_size=128,     # smaller tiles capture clean areas\n",
    "    stride=64,          # overlap -> more tiles\n",
    "    min_valid_frac=0.80 # relax coverage\n",
    ")\n",
    "\n",
    "\n",
    "print(\n",
    "    f\"Shapes:\\n\"\n",
    "    f\"  X_train: {X_train.shape}  y_train: {y_train.shape}\\n\"\n",
    "    f\"  X_val:   {X_val.shape}    y_val:   {y_val.shape}\\n\"\n",
    "    f\"  X_hold:  {X_hold.shape}   y_hold:  {y_hold.shape}\"\n",
    ")\n",
    "\n",
    "# --- Per-channel z-score using TRAIN stats only ---\n",
    "def zscore_from_train(x_train, *xs, eps=1e-6):\n",
    "    mu  = x_train.mean(axis=(0, 1, 2), keepdims=True)\n",
    "    std = x_train.std(axis=(0, 1, 2), keepdims=True) + eps\n",
    "    normed = tuple((x - mu) / std for x in (x_train,) + xs)\n",
    "    return (mu, std), normed\n",
    "\n",
    "(mu, std), (X_train_n, X_val_n, X_hold_n) = zscore_from_train(X_train, X_val, X_hold)\n",
    "\n",
    "# --- Build per-pixel masks from NaNs in SD and fill NaNs with 0 ---\n",
    "import numpy as np\n",
    "\n",
    "def fill_nan_and_mask(y):\n",
    "    # y: (N, H, W, 1)\n",
    "    mask = (~np.isnan(y))[..., 0].astype(\"float32\")        # (N, H, W) -> 1 where SD is valid\n",
    "    y_filled = np.where(np.isnan(y), 0.0, y).astype(\"float32\")\n",
    "    return y_filled, mask\n",
    "\n",
    "y_train_f, w_train = fill_nan_and_mask(y_train)\n",
    "y_val_f,   w_val   = fill_nan_and_mask(y_val)\n",
    "y_hold_f,  w_hold  = fill_nan_and_mask(y_hold)  # for masked metrics later\n",
    "\n",
    "X_train_n = X_train_n.astype(\"float32\")\n",
    "X_val_n   = X_val_n.astype(\"float32\")\n",
    "X_hold_n  = X_hold_n.astype(\"float32\")\n",
    "\n"
   ]
  },
  {
   "cell_type": "code",
   "execution_count": 8,
   "id": "32282fc4",
   "metadata": {},
   "outputs": [
    {
     "name": "stdout",
     "output_type": "stream",
     "text": [
      "NaNs in y_filled (train/val/hold): False False False\n",
      "Mask coverage (train/val/hold): 0.9827944 0.97112894 0.99160194\n"
     ]
    }
   ],
   "source": [
    "print(\"NaNs in y_filled (train/val/hold):\",\n",
    "      np.isnan(y_train_f).any(), np.isnan(y_val_f).any(), np.isnan(y_hold_f).any())\n",
    "print(\"Mask coverage (train/val/hold):\",\n",
    "      w_train.mean(), w_val.mean(), w_hold.mean())\n"
   ]
  },
  {
   "cell_type": "code",
   "execution_count": null,
   "id": "da1a134b",
   "metadata": {},
   "outputs": [],
   "source": [
    "import tensorflow as tf\n",
    "\n",
    "# --- Build ---\n",
    "model = ARCH.unet_regression(\n",
    "    input_shape=X_train_n.shape[1:],   # (H, W, C)\n",
    "    base_filters=32\n",
    ")\n",
    "\n",
    "# --- Compile ---\n",
    "LR = 1e-3\n",
    "model.compile(\n",
    "    optimizer=tf.keras.optimizers.Adam(learning_rate=LR),\n",
    "    loss=tf.keras.losses.Huber(delta=1.0),\n",
    "    metrics=[tf.keras.metrics.MeanAbsoluteError(name=\"MAE\")]\n",
    ")\n",
    "\n",
    "model.summary(line_length=120, expand_nested=True)\n",
    "\n",
    "# --- Train with pixel-wise masks (broadcasts (N,H,W) -> targets (N,H,W,1)) ---\n",
    "import os, json\n",
    "os.makedirs(\"weights\", exist_ok=True)\n",
    "\n",
    "CKPT = \"weights/unet_best.weights.h5\"\n",
    "NORM = \"weights/unet_norm.json\"\n",
    "\n",
    "callbacks = [\n",
    "    tf.keras.callbacks.ModelCheckpoint(\n",
    "        CKPT, monitor=\"val_loss\", save_best_only=True, save_weights_only=True, verbose=1\n",
    "    ),\n",
    "    tf.keras.callbacks.EarlyStopping(monitor=\"val_loss\", patience=5, restore_best_weights=True),\n",
    "    tf.keras.callbacks.ReduceLROnPlateau(monitor=\"val_loss\", factor=0.5, patience=5, min_lr=1e-5),\n",
    "]\n",
    "\n",
    "# train (unchanged except callbacks list)\n",
    "history = model.fit(\n",
    "    X_train_n, y_train_f,\n",
    "    sample_weight=w_train,\n",
    "    validation_data=(X_val_n, y_val_f, w_val),\n",
    "    epochs=100,\n",
    "    batch_size=4,\n",
    "    callbacks=callbacks,\n",
    "    verbose=1,\n",
    ")\n",
    "\n",
    "history = model.fit(\n",
    "    X_train_n, y_train_f,\n",
    "    sample_weight=w_train,                         # << mask invalid pixels\n",
    "    validation_data=(X_val_n, y_val_f, w_val),    # << masked validation\n",
    "    epochs=100,\n",
    "    batch_size=4,\n",
    "    callbacks=callbacks,\n",
    "    verbose=1,\n",
    ")\n"
   ]
  },
  {
   "cell_type": "code",
   "execution_count": 10,
   "id": "f85c88bf",
   "metadata": {},
   "outputs": [
    {
     "name": "stdout",
     "output_type": "stream",
     "text": [
      "\u001b[1m12/12\u001b[0m \u001b[32m━━━━━━━━━━━━━━━━━━━━\u001b[0m\u001b[37m\u001b[0m \u001b[1m10s\u001b[0m 730ms/step\n",
      "Hold-out (masked) — RMSE: 0.4799, MAE: 0.3601\n"
     ]
    }
   ],
   "source": [
    "from numpy import sqrt\n",
    "\n",
    "y_pred_hold = model.predict(X_hold_n)\n",
    "\n",
    "def masked_rmse_mae(y_true, y_pred, w, eps=1e-6):\n",
    "    # y_*: (N,H,W,1), w: (N,H,W)\n",
    "    diff = (y_true[...,0] - y_pred[...,0])\n",
    "    mae = (np.abs(diff) * w).sum() / (w.sum() + eps)\n",
    "    rmse = sqrt(((diff**2) * w).sum() / (w.sum() + eps))\n",
    "    return rmse, mae\n",
    "\n",
    "rmse, mae = masked_rmse_mae(y_hold_f, y_pred_hold, w_hold)\n",
    "print(f\"Hold-out (masked) — RMSE: {rmse:.4f}, MAE: {mae:.4f}\")\n"
   ]
  }
 ],
 "metadata": {
  "kernelspec": {
   "display_name": "base",
   "language": "python",
   "name": "python3"
  },
  "language_info": {
   "codemirror_mode": {
    "name": "ipython",
    "version": 3
   },
   "file_extension": ".py",
   "mimetype": "text/x-python",
   "name": "python",
   "nbconvert_exporter": "python",
   "pygments_lexer": "ipython3",
   "version": "3.12.2"
  }
 },
 "nbformat": 4,
 "nbformat_minor": 5
}
