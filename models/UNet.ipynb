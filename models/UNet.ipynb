{
 "cells": [
  {
   "cell_type": "code",
   "execution_count": null,
   "id": "9e24fd60",
   "metadata": {},
   "outputs": [],
   "source": [
    "import os\n",
    "import SnowDepth as SD\n",
    "\n",
    "# Assign seed\n",
    "seed = 18\n",
    "\n",
    "# Paths\n",
    "data_dir = \"data/tif_files\"\n",
    "h5_path  = \"data/h5_files\"\n",
    "\n",
    "# Build H5 files (filters labels to 0 ≤ SD ≤ upper_threshold if provided)\n",
    "if not os.path.exists(h5_path):\n",
    "    SD.data_loader.create_h5(data_dir, h5_path, upper_threshold=3)\n",
    "else:\n",
    "    print(f\"Using existing H5: {h5_path}\")"
   ]
  },
  {
   "cell_type": "code",
   "execution_count": null,
   "id": "cfa3cdc0",
   "metadata": {},
   "outputs": [],
   "source": []
  },
  {
   "cell_type": "code",
   "execution_count": null,
   "id": "da1a134b",
   "metadata": {},
   "outputs": [],
   "source": []
  },
  {
   "cell_type": "code",
   "execution_count": null,
   "id": "f85c88bf",
   "metadata": {},
   "outputs": [],
   "source": []
  }
 ],
 "metadata": {
  "language_info": {
   "name": "python"
  }
 },
 "nbformat": 4,
 "nbformat_minor": 5
}
