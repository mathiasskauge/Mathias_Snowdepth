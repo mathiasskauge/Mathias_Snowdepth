{
 "cells": [
  {
   "cell_type": "code",
   "execution_count": null,
   "id": "2b606976",
   "metadata": {},
   "outputs": [],
   "source": [
    "import sys\n",
    "from pathlib import Path\n",
    "from sklearn.ensemble import RandomForestRegressor\n",
    "from sklearn.model_selection import RandomizedSearchCV, LeaveOneGroupOut\n",
    "\n",
    "# Set ROOT path to access other directories in project\n",
    "ROOT = Path.cwd().parent\n",
    "if str(ROOT) not in sys.path:\n",
    "    sys.path.insert(0, str(ROOT))\n",
    "\n",
    "import SnowDepth.data_loader as DL\n",
    "import SnowDepth.data_splitter as DS\n",
    "import SnowDepth.optimal_features as OF"
   ]
  },
  {
   "cell_type": "code",
   "execution_count": 8,
   "id": "b23c368a",
   "metadata": {},
   "outputs": [],
   "source": [
    "# Assign seed\n",
    "seed = 18\n",
    "\n",
    "# Path to TIFF files\n",
    "data_dir = ROOT/\"data\"/\"tif_files\"\n",
    "\n",
    "# Select holdout AOI\n",
    "holdout_aoi=\"ID_BS\"\n",
    "\n",
    "# Select amount of features to select from FF algos\n",
    "top_k = 10\n",
    "\n",
    "# Load dataframe\n",
    "df = DL.build_df(str(data_dir), drop_invalid=True, upper_threshold=3)\n",
    "\n",
    "dev_df  = df[df['aoi_name'] != holdout_aoi].copy()\n",
    "hold_df = df[df['aoi_name'] == holdout_aoi].copy()"
   ]
  },
  {
   "cell_type": "code",
   "execution_count": 9,
   "id": "4e225db0",
   "metadata": {},
   "outputs": [
    {
     "name": "stdout",
     "output_type": "stream",
     "text": [
      "Block HSIC Lasso B = 20.\n",
      "M set to 3.\n",
      "Using Gaussian kernel for the features, Gaussian kernel for the outcomes.\n",
      "HSIC (top 10): ['IAFE', 'Gamma_VH_RTC', 'cos_Aspect', 'Gamma_VV_RTC', 'Beta_ratio', 'Slope', 'LIA', 'Gamma_RTC_ratio', 'Beta_VH', 'sin_Aspect']\n",
      "PCC  (top 10): ['IAFE', 'cos_Aspect', 'Gamma_VH_RTC', 'Gamma_VV_RTC', 'Elevation', 'Beta_VH', 'Slope', 'LIA']\n",
      "MI   (top 10): ['IAFE', 'Elevation', 'Gamma_VH_RTC', 'Gamma_VV_RTC', 'Gamma_RTC_sum', 'cos_Aspect', 'Beta_VH', 'Slope', 'Gamma_ratio']\n"
     ]
    }
   ],
   "source": [
    "ff_algos = OF.optimal_feature_sets(dev_df, top_k=10, n_per_aoi=10000)\n",
    "\n",
    "base_cols = [\"aoi_name\", \"row\", \"col\", \"SD\"]\n",
    "\n",
    "# HSIC\n",
    "dev_df_HSIC  = dev_df[base_cols + ff_algos[\"HSIC\"]].copy()\n",
    "hold_df_HSIC = hold_df[base_cols + ff_algos[\"HSIC\"]].copy()\n",
    "\n",
    "# PCC\n",
    "dev_df_PCC  = dev_df[base_cols + ff_algos[\"PCC\"]].copy()\n",
    "hold_df_PCC = hold_df[base_cols + ff_algos[\"PCC\"]].copy()\n",
    "\n",
    "# MI\n",
    "dev_df_MI  = dev_df[base_cols + ff_algos[\"MI\"]].copy()\n",
    "hold_df_MI = hold_df[base_cols + ff_algos[\"MI\"]].copy()\n"
   ]
  },
  {
   "cell_type": "code",
   "execution_count": null,
   "id": "7ceda51c",
   "metadata": {},
   "outputs": [
    {
     "name": "stdout",
     "output_type": "stream",
     "text": [
      "Total samples: 50000 across 5 AOIs\n",
      "Features used: ['IAFE', 'Gamma_VH_RTC', 'cos_Aspect', 'Gamma_VV_RTC', 'Beta_ratio', 'Slope', 'LIA', 'Gamma_RTC_ratio', 'Beta_VH', 'sin_Aspect']\n",
      "X_dev shape: (50000, 10)\n",
      "X_hold shape: (1655811, 10)\n",
      "Total samples: 50000 across 5 AOIs\n",
      "Features used: ['IAFE', 'cos_Aspect', 'Gamma_VH_RTC', 'Gamma_VV_RTC', 'Elevation', 'Beta_VH', 'Slope', 'LIA']\n",
      "X_dev shape: (50000, 8)\n",
      "X_hold shape: (1655811, 8)\n",
      "Total samples: 50000 across 5 AOIs\n",
      "Features used: ['IAFE', 'Elevation', 'Gamma_VH_RTC', 'Gamma_VV_RTC', 'Gamma_RTC_sum', 'cos_Aspect', 'Beta_VH', 'Slope', 'Gamma_ratio']\n",
      "X_dev shape: (50000, 9)\n",
      "X_hold shape: (1655811, 9)\n"
     ]
    }
   ],
   "source": [
    "# HSIC\n",
    "X_dev_HSIC, y_dev_HSIC, groups_HSIC, X_hold_HSIC, y_hold_HSIC = DS.ML_split(\n",
    "    dev_df=dev_df_HSIC,\n",
    "    hold_df=hold_df_HSIC,\n",
    "    seed=seed,\n",
    "    pxs_per_aoi=10000\n",
    ")\n",
    "\n",
    "# PCC\n",
    "X_dev_PCC, y_dev_PCC, groups_PCC, X_hold_PCC, y_hold_PCC = DS.ML_split(\n",
    "    dev_df=dev_df_PCC,\n",
    "    hold_df=hold_df_PCC,\n",
    "    seed=seed,\n",
    "    pxs_per_aoi=10000\n",
    ")\n",
    "\n",
    "# MI\n",
    "X_dev_MI, y_dev_MI, groups_MI, X_hold_MI, y_hold_MI = DS.ML_split(\n",
    "    dev_df=dev_df_MI,\n",
    "    hold_df=hold_df_MI,\n",
    "    seed=seed,\n",
    "    pxs_per_aoi=10000\n",
    ")\n"
   ]
  },
  {
   "cell_type": "markdown",
   "id": "44f46901",
   "metadata": {},
   "source": [
    "Train RF and tune hyperparameters"
   ]
  },
  {
   "cell_type": "code",
   "execution_count": 11,
   "id": "974f18b3",
   "metadata": {},
   "outputs": [
    {
     "name": "stdout",
     "output_type": "stream",
     "text": [
      "Fitting 5 folds for each of 30 candidates, totalling 150 fits\n",
      "Results - RF with HSIC feature set\n",
      "HSIC — Best hyperparameters: {'n_estimators': 300, 'min_samples_leaf': 50, 'max_samples': 0.5, 'max_features': 3, 'max_depth': 18}\n",
      "HSIC — Best CV RMSE: 0.48799733352329416\n"
     ]
    }
   ],
   "source": [
    "''' RF with features from PCC '''\n",
    "\n",
    "rf = RandomForestRegressor(\n",
    "    random_state=seed,\n",
    "    bootstrap=True,\n",
    "    n_jobs=-1\n",
    ")\n",
    "\n",
    "# Hyperparameters\n",
    "param_dist = {\n",
    "    \"n_estimators\": [200, 300, 400, 600],\n",
    "    \"max_depth\": [12, 14, 16, 18],\n",
    "    \"max_features\": [\"sqrt\", 0.3, 0.5, 3],\n",
    "    \"min_samples_leaf\": [2, 5, 10, 20, 50, 0.005, 0.01],\n",
    "    \"max_samples\": [0.3, 0.5],\n",
    "}\n",
    "\n",
    "logo = LeaveOneGroupOut()\n",
    "\n",
    "# Randomized search\n",
    "HSIC_search = RandomizedSearchCV(\n",
    "    estimator=rf,\n",
    "    param_distributions=param_dist,\n",
    "    n_iter=30,                               \n",
    "    cv=logo,\n",
    "    scoring=\"neg_root_mean_squared_error\",\n",
    "    n_jobs=-1,\n",
    "    verbose=2,\n",
    "    random_state=seed\n",
    ")\n",
    "\n",
    "# Fit\n",
    "HSIC_search.fit(X_dev_HSIC, y_dev_HSIC, groups=groups_HSIC)\n",
    "\n",
    "# Results\n",
    "print(\"Results - RF with HSIC feature set\")\n",
    "print(\"HSIC — Best hyperparameters:\", HSIC_search.best_params_)\n",
    "print(\"HSIC — Best CV RMSE:\", -HSIC_search.best_score_)\n"
   ]
  },
  {
   "cell_type": "code",
   "execution_count": 12,
   "id": "c2a541fd",
   "metadata": {},
   "outputs": [
    {
     "name": "stdout",
     "output_type": "stream",
     "text": [
      "Fitting 5 folds for each of 30 candidates, totalling 150 fits\n",
      "Results - RF with PCC feature set\n",
      "PCC — Best hyperparameters: {'n_estimators': 200, 'min_samples_leaf': 2, 'max_samples': 0.3, 'max_features': 'sqrt', 'max_depth': 16}\n",
      "PCC — Best CV RMSE: 0.5297664493871397\n"
     ]
    }
   ],
   "source": [
    "''' RF with features from PCC '''\n",
    "\n",
    "rf = RandomForestRegressor(\n",
    "    random_state=seed,\n",
    "    bootstrap=True,\n",
    "    n_jobs=-1\n",
    ")\n",
    "\n",
    "# Hyperparameters\n",
    "param_dist = {\n",
    "    \"n_estimators\": [200, 300, 400, 600],\n",
    "    \"max_depth\": [12, 14, 16, 18],\n",
    "    \"max_features\": [\"sqrt\", 0.3, 0.5, 3],\n",
    "    \"min_samples_leaf\": [2, 5, 10, 20, 50, 0.005, 0.01],\n",
    "    \"max_samples\": [0.3, 0.5],\n",
    "}\n",
    "\n",
    "logo = LeaveOneGroupOut()\n",
    "\n",
    "PCC_search = RandomizedSearchCV(\n",
    "    estimator=rf,\n",
    "    param_distributions=param_dist,\n",
    "    n_iter=30,\n",
    "    cv=logo,\n",
    "    scoring=\"neg_root_mean_squared_error\",\n",
    "    n_jobs=-1,\n",
    "    verbose=2,\n",
    "    random_state=seed\n",
    ")\n",
    "\n",
    "# Fit\n",
    "PCC_search.fit(X_dev_PCC, y_dev_PCC, groups=groups_PCC)\n",
    "\n",
    "# Results\n",
    "print(\"Results - RF with PCC feature set\")\n",
    "print(\"PCC — Best hyperparameters:\", PCC_search.best_params_)\n",
    "print(\"PCC — Best CV RMSE:\", -PCC_search.best_score_)\n"
   ]
  },
  {
   "cell_type": "code",
   "execution_count": 13,
   "id": "8ddf86f1",
   "metadata": {},
   "outputs": [
    {
     "name": "stdout",
     "output_type": "stream",
     "text": [
      "Fitting 5 folds for each of 30 candidates, totalling 150 fits\n",
      "Results - RF with MI feature set\n",
      "Best hyperparameters: {'n_estimators': 200, 'min_samples_leaf': 20, 'max_samples': 0.5, 'max_features': 0.3, 'max_depth': 12}\n",
      "Best CV RMSE: 0.5346251580542997\n"
     ]
    }
   ],
   "source": [
    "''' RF with features from MI '''\n",
    "\n",
    "rf = RandomForestRegressor(\n",
    "    random_state=seed,\n",
    "    bootstrap=True,\n",
    "    n_jobs=-1\n",
    ")\n",
    "\n",
    "# Hyperparameters\n",
    "param_dist = {\n",
    "    \"n_estimators\": [200, 300, 400, 600],\n",
    "    \"max_depth\": [12, 14, 16, 18],\n",
    "    \"max_features\": [\"sqrt\", 0.3, 0.5, 3],\n",
    "    \"min_samples_leaf\": [2, 5, 10, 20, 50, 0.005, 0.01],\n",
    "    \"max_samples\": [0.3, 0.5],\n",
    "}\n",
    "\n",
    "logo = LeaveOneGroupOut()\n",
    "\n",
    "MI_search = RandomizedSearchCV(\n",
    "    estimator=rf,\n",
    "    param_distributions=param_dist,\n",
    "    n_iter=30,\n",
    "    cv=logo,\n",
    "    scoring=\"neg_root_mean_squared_error\",\n",
    "    n_jobs=-1,\n",
    "    verbose=2,\n",
    "    random_state=seed\n",
    ")\n",
    "\n",
    "# Fit\n",
    "MI_search.fit(X_dev_MI, y_dev_MI, groups=groups_MI)\n",
    "\n",
    "# Results\n",
    "print(\"Results - RF with MI feature set\")\n",
    "print(\"Best hyperparameters:\", MI_search.best_params_)\n",
    "print(\"Best CV RMSE:\", -MI_search.best_score_)\n"
   ]
  },
  {
   "cell_type": "code",
   "execution_count": null,
   "id": "bd717f17",
   "metadata": {},
   "outputs": [
    {
     "name": "stdout",
     "output_type": "stream",
     "text": [
      "\n",
      "Cross-validation RMSE results:\n",
      "HSIC : 0.4880\n",
      "PCC  : 0.5298\n",
      "MI   : 0.5346\n",
      "\n",
      "🏆 Best feature set: HSIC (CV RMSE = 0.4880)\n"
     ]
    }
   ],
   "source": [
    "# Print best RF model and feature set\n",
    "rf_results = {\n",
    "    \"HSIC\": (-HSIC_search.best_score_, HSIC_search.best_params_),\n",
    "    \"PCC\":  (-PCC_search.best_score_,  PCC_search.best_params_),\n",
    "    \"MI\":   (-MI_search.best_score_,   MI_search.best_params_),\n",
    "}\n",
    "\n",
    "print(\"\\nCross-validation RMSE results (Random Forest):\")\n",
    "for name, (rmse, params) in rf_results.items():\n",
    "    print(f\"\\n{name} — CV RMSE: {rmse:.4f}\")\n",
    "    print(f\"{name} — Best hyperparameters: {params}\")\n",
    "\n",
    "# Find the winner\n",
    "best_rf_method = min(rf_results, key=lambda k: rf_results[k][0])\n",
    "best_rf_rmse, best_rf_params = rf_results[best_rf_method]\n",
    "\n",
    "print(f\"\\n🏆 Best feature set with RF: {best_rf_method} \"\n",
    "      f\"(CV RMSE = {best_rf_rmse:.4f})\")\n",
    "print(f\"Best RF hyperparameters: {best_rf_params}\")\n"
   ]
  }
 ],
 "metadata": {
  "kernelspec": {
   "display_name": "base",
   "language": "python",
   "name": "python3"
  },
  "language_info": {
   "codemirror_mode": {
    "name": "ipython",
    "version": 3
   },
   "file_extension": ".py",
   "mimetype": "text/x-python",
   "name": "python",
   "nbconvert_exporter": "python",
   "pygments_lexer": "ipython3",
   "version": "3.12.2"
  }
 },
 "nbformat": 4,
 "nbformat_minor": 5
}
