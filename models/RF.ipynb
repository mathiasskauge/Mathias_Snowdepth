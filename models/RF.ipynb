{
 "cells": [
  {
   "cell_type": "code",
   "execution_count": 1,
   "id": "2b606976",
   "metadata": {},
   "outputs": [],
   "source": [
    "import sys\n",
    "from pathlib import Path\n",
    "from sklearn.ensemble import RandomForestRegressor\n",
    "from sklearn.model_selection import RandomizedSearchCV, LeaveOneGroupOut\n",
    "import time\n",
    "\n",
    "# Set ROOT path to access other directories in project\n",
    "ROOT = Path.cwd().parent\n",
    "if str(ROOT) not in sys.path:\n",
    "    sys.path.insert(0, str(ROOT))\n",
    "\n",
    "import SnowDepth.data_loader as DL\n",
    "import SnowDepth.data_splitter as DS\n",
    "import SnowDepth.optimal_features as OF\n",
    "from SnowDepth.config import HOLDOUT_AOI\n",
    "from SnowDepth.config import SEED"
   ]
  },
  {
   "cell_type": "code",
   "execution_count": 2,
   "id": "b23c368a",
   "metadata": {},
   "outputs": [],
   "source": [
    "# Assign seed\n",
    "seed = SEED\n",
    "\n",
    "# Path to TIFF files\n",
    "data_dir = ROOT/\"data\"/\"tif_files\"\n",
    "\n",
    "# Select holdout AOI\n",
    "holdout_aoi=HOLDOUT_AOI\n",
    "\n",
    "# Select max amount of features to select from FF algos\n",
    "top_k = 10\n",
    "\n",
    "# Load dataframe\n",
    "df = DL.build_df(str(data_dir), drop_invalid=True, upper_threshold=3)\n",
    "\n",
    "# Development dataframe we will use for training models\n",
    "dev_df  = df[df['aoi_name'] != holdout_aoi].copy()"
   ]
  },
  {
   "cell_type": "code",
   "execution_count": 3,
   "id": "4e225db0",
   "metadata": {},
   "outputs": [
    {
     "name": "stdout",
     "output_type": "stream",
     "text": [
      "Block HSIC Lasso B = 20.\n",
      "M set to 3.\n",
      "Using Gaussian kernel for the features, Gaussian kernel for the outcomes.\n",
      "HSIC selected: ['Veg_height', 'IAFE', 'cos_Aspect', 'Gamma_VH_RTC', 'Gamma_VV_RTC', 'Sigma_ratio', 'Beta_VH', 'Gamma_RTC_ratio', 'Slope', 'LIA']\n",
      "PCC selected: ['Veg_height', 'IAFE', 'cos_Aspect', 'Gamma_VH_RTC', 'sin_Aspect', 'Gamma_RTC_ratio', 'Beta_VH']\n",
      "MI selected): ['IAFE', 'Elevation', 'Veg_height', 'cos_Aspect', 'Gamma_RTC_sum', 'Gamma_VH_RTC', 'Gamma_VV_RTC', 'Slope', 'Beta_VH']\n"
     ]
    }
   ],
   "source": [
    "# Run Feature filtering algorithms\n",
    "ff_algos = OF.optimal_feature_sets(dev_df, top_k=10, n_per_aoi=20000)\n",
    "\n",
    "base_cols = [\"aoi_name\", \"row\", \"col\", \"SD\"]\n",
    "\n",
    "# HSIC\n",
    "dev_df_HSIC  = dev_df[base_cols + ff_algos[\"HSIC\"]].copy()\n",
    "# PCC\n",
    "dev_df_PCC  = dev_df[base_cols + ff_algos[\"PCC\"]].copy()\n",
    "# MI\n",
    "dev_df_MI  = dev_df[base_cols + ff_algos[\"MI\"]].copy()"
   ]
  },
  {
   "cell_type": "markdown",
   "id": "de46354d",
   "metadata": {},
   "source": [
    "Split data for training XGBoost"
   ]
  },
  {
   "cell_type": "code",
   "execution_count": 4,
   "id": "7ceda51c",
   "metadata": {},
   "outputs": [
    {
     "name": "stdout",
     "output_type": "stream",
     "text": [
      "Total samples: 50000 across 5 AOIs\n",
      "Features used: ['Veg_height', 'IAFE', 'cos_Aspect', 'Gamma_VH_RTC', 'Gamma_VV_RTC', 'Sigma_ratio', 'Beta_VH', 'Gamma_RTC_ratio', 'Slope', 'LIA']\n",
      "X_dev shape: (50000, 10)\n",
      "Total samples: 50000 across 5 AOIs\n",
      "Features used: ['Veg_height', 'IAFE', 'cos_Aspect', 'Gamma_VH_RTC', 'sin_Aspect', 'Gamma_RTC_ratio', 'Beta_VH']\n",
      "X_dev shape: (50000, 7)\n",
      "Total samples: 50000 across 5 AOIs\n",
      "Features used: ['IAFE', 'Elevation', 'Veg_height', 'cos_Aspect', 'Gamma_RTC_sum', 'Gamma_VH_RTC', 'Gamma_VV_RTC', 'Slope', 'Beta_VH']\n",
      "X_dev shape: (50000, 9)\n"
     ]
    }
   ],
   "source": [
    "# HSIC\n",
    "X_dev_HSIC, y_dev_HSIC, groups_HSIC = DS.ML_split(\n",
    "    dev_df=dev_df_HSIC,\n",
    "    pxs_per_aoi=10000\n",
    ")\n",
    "# PCC\n",
    "X_dev_PCC, y_dev_PCC, groups_PCC = DS.ML_split(\n",
    "    dev_df=dev_df_PCC,\n",
    "    pxs_per_aoi=10000\n",
    ")\n",
    "# MI\n",
    "X_dev_MI, y_dev_MI, groups_MI = DS.ML_split(\n",
    "    dev_df=dev_df_MI,\n",
    "    pxs_per_aoi=10000\n",
    ")"
   ]
  },
  {
   "cell_type": "markdown",
   "id": "44f46901",
   "metadata": {},
   "source": [
    "Train RF and tune hyperparameters"
   ]
  },
  {
   "cell_type": "code",
   "execution_count": 5,
   "id": "974f18b3",
   "metadata": {},
   "outputs": [
    {
     "name": "stdout",
     "output_type": "stream",
     "text": [
      "Fitting 5 folds for each of 30 candidates, totalling 150 fits\n",
      "\n",
      "Results - RF with HSIC feature set\n",
      "Best hyperparameters: {'n_estimators': 400, 'min_samples_leaf': 20, 'max_samples': 0.5, 'max_features': 0.3, 'max_depth': 16}\n",
      "Best CV RMSE: 0.4692\n",
      "Training time: 5.43 minutes\n",
      "Fitting 5 folds for each of 30 candidates, totalling 150 fits\n",
      "\n",
      "Results - RF with PCC feature set\n",
      "Best hyperparameters: {'n_estimators': 200, 'min_samples_leaf': 5, 'max_samples': 0.5, 'max_features': 0.3, 'max_depth': 18}\n",
      "Best CV RMSE: 0.4761\n",
      "Training time: 4.74 minutes\n",
      "Fitting 5 folds for each of 30 candidates, totalling 150 fits\n",
      "\n",
      "Results - RF with MI feature set\n",
      "Best hyperparameters: {'n_estimators': 300, 'min_samples_leaf': 2, 'max_samples': 0.3, 'max_features': 3, 'max_depth': 16}\n",
      "Best CV RMSE: 0.4700\n",
      "Training time: 4.93 minutes\n"
     ]
    }
   ],
   "source": [
    "\n",
    "param_dist = {\n",
    "    \"n_estimators\": [200, 300, 400, 600],\n",
    "    \"max_depth\": [12, 14, 16, 18],\n",
    "    \"max_features\": [\"sqrt\", 0.3, 0.5, 3],\n",
    "    \"min_samples_leaf\": [2, 5, 10, 20, 50, 0.005, 0.01],\n",
    "    \"max_samples\": [0.3, 0.5],\n",
    "}\n",
    "\n",
    "def run_rf_search(tag, X, y, groups, seed):\n",
    "    rf = RandomForestRegressor(\n",
    "        random_state=seed,\n",
    "        bootstrap=True,\n",
    "        n_jobs=-1\n",
    "    )\n",
    "    logo = LeaveOneGroupOut()\n",
    "    search = RandomizedSearchCV(\n",
    "        estimator=rf,\n",
    "        param_distributions=param_dist,\n",
    "        n_iter=30,\n",
    "        cv=logo,\n",
    "        scoring=\"neg_root_mean_squared_error\",\n",
    "        n_jobs=-1,\n",
    "        verbose=2,\n",
    "        random_state=seed\n",
    "    )\n",
    "\n",
    "    start = time.time()\n",
    "    search.fit(X, y, groups=groups)\n",
    "    end = time.time()\n",
    "    elapsed = (end - start) / 60.0  # minutes\n",
    "\n",
    "    best_rmse = -search.best_score_\n",
    "    best_params = search.best_params_\n",
    "\n",
    "    print(f\"\\nResults - RF with {tag} feature set\")\n",
    "    print(f\"Best hyperparameters: {best_params}\")\n",
    "    print(f\"Best CV RMSE: {best_rmse:.4f}\")\n",
    "    print(f\"Training time: {elapsed:.2f} minutes\")\n",
    "\n",
    "    return tag, best_rmse, best_params, elapsed\n",
    "\n",
    "\n",
    "# Run all feature sets\n",
    "rf_results = {}\n",
    "timings = {}\n",
    "\n",
    "for tag, X, y, g in [\n",
    "    (\"HSIC\", X_dev_HSIC, y_dev_HSIC, groups_HSIC),\n",
    "    (\"PCC\",  X_dev_PCC,  y_dev_PCC,  groups_PCC),\n",
    "    (\"MI\",   X_dev_MI,   y_dev_MI,   groups_MI),\n",
    "]:\n",
    "    tag, rmse, params, time_min = run_rf_search(tag, X, y, g, seed)\n",
    "    rf_results[tag] = (rmse, params)\n",
    "    timings[tag] = time_min\n"
   ]
  },
  {
   "cell_type": "code",
   "execution_count": 6,
   "id": "bd717f17",
   "metadata": {},
   "outputs": [
    {
     "name": "stdout",
     "output_type": "stream",
     "text": [
      "\n",
      "Cross-validation RMSE results (Random Forest):\n",
      "\n",
      "HSIC — CV RMSE: 0.4692\n",
      "HSIC — Best hyperparameters: {'n_estimators': 400, 'min_samples_leaf': 20, 'max_samples': 0.5, 'max_features': 0.3, 'max_depth': 16}\n",
      "HSIC — Training time: 5.43 minutes\n",
      "\n",
      "PCC — CV RMSE: 0.4761\n",
      "PCC — Best hyperparameters: {'n_estimators': 200, 'min_samples_leaf': 5, 'max_samples': 0.5, 'max_features': 0.3, 'max_depth': 18}\n",
      "PCC — Training time: 4.74 minutes\n",
      "\n",
      "MI — CV RMSE: 0.4700\n",
      "MI — Best hyperparameters: {'n_estimators': 300, 'min_samples_leaf': 2, 'max_samples': 0.3, 'max_features': 3, 'max_depth': 16}\n",
      "MI — Training time: 4.93 minutes\n",
      "\n",
      "🏆 Best feature set with RF: HSIC (CV RMSE = 0.4692, time = 5.43 min)\n",
      "Best RF hyperparameters: {'n_estimators': 400, 'min_samples_leaf': 20, 'max_samples': 0.5, 'max_features': 0.3, 'max_depth': 16}\n"
     ]
    }
   ],
   "source": [
    "# Print summary leaderboard\n",
    "print(\"\\nCross-validation RMSE results (Random Forest):\")\n",
    "for name, (rmse, params) in rf_results.items():\n",
    "    print(f\"\\n{name} — CV RMSE: {rmse:.4f}\")\n",
    "    print(f\"{name} — Best hyperparameters: {params}\")\n",
    "    print(f\"{name} — Training time: {timings[name]:.2f} minutes\")\n",
    "\n",
    "# Find and print the overall best\n",
    "best_rf_method = min(rf_results, key=lambda k: rf_results[k][0])\n",
    "best_rf_rmse, best_rf_params = rf_results[best_rf_method]\n",
    "\n",
    "print(f\"\\n🏆 Best feature set with RF: {best_rf_method} \"\n",
    "      f\"(CV RMSE = {best_rf_rmse:.4f}, time = {timings[best_rf_method]:.2f} min)\")\n",
    "print(f\"Best RF hyperparameters: {best_rf_params}\")"
   ]
  }
 ],
 "metadata": {
  "kernelspec": {
   "display_name": "base",
   "language": "python",
   "name": "python3"
  },
  "language_info": {
   "codemirror_mode": {
    "name": "ipython",
    "version": 3
   },
   "file_extension": ".py",
   "mimetype": "text/x-python",
   "name": "python",
   "nbconvert_exporter": "python",
   "pygments_lexer": "ipython3",
   "version": "3.12.2"
  }
 },
 "nbformat": 4,
 "nbformat_minor": 5
}
