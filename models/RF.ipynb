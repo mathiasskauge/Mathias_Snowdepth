{
 "cells": [
  {
   "cell_type": "code",
   "execution_count": null,
   "id": "2b606976",
   "metadata": {},
   "outputs": [],
   "source": [
    "import sys\n",
    "from pathlib import Path\n",
    "from sklearn.ensemble import RandomForestRegressor\n",
    "from sklearn.model_selection import RandomizedSearchCV, LeaveOneGroupOut\n",
    "import time\n",
    "\n",
    "# Set ROOT path to access other directories in project\n",
    "ROOT = Path.cwd().parent\n",
    "if str(ROOT) not in sys.path:\n",
    "    sys.path.insert(0, str(ROOT))\n",
    "\n",
    "import SnowDepth.data_loader as DL\n",
    "import SnowDepth.data_splitter as DS\n",
    "import SnowDepth.optimal_features as OF\n",
    "from SnowDepth.config import HOLDOUT_AOI\n",
    "from SnowDepth.config import SEED"
   ]
  },
  {
   "cell_type": "code",
   "execution_count": null,
   "id": "b23c368a",
   "metadata": {},
   "outputs": [],
   "source": [
    "# Assign seed\n",
    "seed = SEED\n",
    "\n",
    "# Path to TIFF files\n",
    "data_dir = ROOT/\"data\"/\"tif_files\"\n",
    "\n",
    "# Select holdout AOI\n",
    "holdout_aoi=HOLDOUT_AOI\n",
    "\n",
    "# Select max amount of features to select from FF algos\n",
    "top_k = 10\n",
    "\n",
    "# Load dataframe\n",
    "df = DL.build_df(str(data_dir), drop_invalid=True, upper_threshold=3)\n",
    "\n",
    "# Development dataframe we will use for training models\n",
    "dev_df  = df[df['aoi_name'] != holdout_aoi].copy()"
   ]
  },
  {
   "cell_type": "code",
   "execution_count": null,
   "id": "4e225db0",
   "metadata": {},
   "outputs": [
    {
     "name": "stdout",
     "output_type": "stream",
     "text": [
      "Block HSIC Lasso B = 20.\n",
      "M set to 3.\n",
      "Using Gaussian kernel for the features, Gaussian kernel for the outcomes.\n",
      "HSIC (top 10): ['IAFE', 'Gamma_VH_RTC', 'cos_Aspect', 'Gamma_VV_RTC', 'Beta_ratio', 'Slope', 'LIA', 'Gamma_RTC_ratio', 'Beta_VH', 'sin_Aspect']\n",
      "PCC  (top 10): ['IAFE', 'cos_Aspect', 'Gamma_VH_RTC', 'Gamma_VV_RTC', 'Elevation', 'Beta_VH', 'Slope', 'LIA']\n",
      "MI   (top 10): ['IAFE', 'Elevation', 'Gamma_VH_RTC', 'Gamma_VV_RTC', 'Gamma_RTC_sum', 'cos_Aspect', 'Beta_VH', 'Slope', 'Gamma_ratio']\n"
     ]
    }
   ],
   "source": [
    "# Run Feature filtering algorithms\n",
    "ff_algos = OF.optimal_feature_sets(dev_df, top_k=10, n_per_aoi=10000)\n",
    "\n",
    "base_cols = [\"aoi_name\", \"row\", \"col\", \"SD\"]\n",
    "\n",
    "# HSIC\n",
    "dev_df_HSIC  = dev_df[base_cols + ff_algos[\"HSIC\"]].copy()\n",
    "# PCC\n",
    "dev_df_PCC  = dev_df[base_cols + ff_algos[\"PCC\"]].copy()\n",
    "# MI\n",
    "dev_df_MI  = dev_df[base_cols + ff_algos[\"MI\"]].copy()"
   ]
  },
  {
   "cell_type": "markdown",
   "id": "de46354d",
   "metadata": {},
   "source": [
    "Split data for training XGBoost"
   ]
  },
  {
   "cell_type": "code",
   "execution_count": null,
   "id": "7ceda51c",
   "metadata": {},
   "outputs": [
    {
     "name": "stdout",
     "output_type": "stream",
     "text": [
      "Total samples: 50000 across 5 AOIs\n",
      "Features used: ['IAFE', 'Gamma_VH_RTC', 'cos_Aspect', 'Gamma_VV_RTC', 'Beta_ratio', 'Slope', 'LIA', 'Gamma_RTC_ratio', 'Beta_VH', 'sin_Aspect']\n",
      "X_dev shape: (50000, 10)\n",
      "X_hold shape: (1655811, 10)\n",
      "Total samples: 50000 across 5 AOIs\n",
      "Features used: ['IAFE', 'cos_Aspect', 'Gamma_VH_RTC', 'Gamma_VV_RTC', 'Elevation', 'Beta_VH', 'Slope', 'LIA']\n",
      "X_dev shape: (50000, 8)\n",
      "X_hold shape: (1655811, 8)\n",
      "Total samples: 50000 across 5 AOIs\n",
      "Features used: ['IAFE', 'Elevation', 'Gamma_VH_RTC', 'Gamma_VV_RTC', 'Gamma_RTC_sum', 'cos_Aspect', 'Beta_VH', 'Slope', 'Gamma_ratio']\n",
      "X_dev shape: (50000, 9)\n",
      "X_hold shape: (1655811, 9)\n"
     ]
    }
   ],
   "source": [
    "# HSIC\n",
    "X_dev_HSIC, y_dev_HSIC, groups_HSIC = DS.ML_split(\n",
    "    dev_df=dev_df_HSIC,\n",
    "    pxs_per_aoi=10000\n",
    ")\n",
    "# PCC\n",
    "X_dev_PCC, y_dev_PCC, groups_PCC = DS.ML_split(\n",
    "    dev_df=dev_df_PCC,\n",
    "    pxs_per_aoi=10000\n",
    ")\n",
    "# MI\n",
    "X_dev_MI, y_dev_MI, groups_MI = DS.ML_split(\n",
    "    dev_df=dev_df_MI,\n",
    "    pxs_per_aoi=10000\n",
    ")"
   ]
  },
  {
   "cell_type": "markdown",
   "id": "44f46901",
   "metadata": {},
   "source": [
    "Train RF and tune hyperparameters"
   ]
  },
  {
   "cell_type": "code",
   "execution_count": null,
   "id": "974f18b3",
   "metadata": {},
   "outputs": [
    {
     "name": "stdout",
     "output_type": "stream",
     "text": [
      "Fitting 5 folds for each of 30 candidates, totalling 150 fits\n",
      "Results - RF with HSIC feature set\n",
      "HSIC — Best hyperparameters: {'n_estimators': 300, 'min_samples_leaf': 50, 'max_samples': 0.5, 'max_features': 3, 'max_depth': 18}\n",
      "HSIC — Best CV RMSE: 0.48799733352329416\n"
     ]
    }
   ],
   "source": [
    "\n",
    "param_dist = {\n",
    "    \"n_estimators\": [200, 300, 400, 600],\n",
    "    \"max_depth\": [12, 14, 16, 18],\n",
    "    \"max_features\": [\"sqrt\", 0.3, 0.5, 3],\n",
    "    \"min_samples_leaf\": [2, 5, 10, 20, 50, 0.005, 0.01],\n",
    "    \"max_samples\": [0.3, 0.5],\n",
    "}\n",
    "\n",
    "def run_rf_search(tag, X, y, groups, seed):\n",
    "    rf = RandomForestRegressor(\n",
    "        random_state=seed,\n",
    "        bootstrap=True,\n",
    "        n_jobs=-1\n",
    "    )\n",
    "    logo = LeaveOneGroupOut()\n",
    "    search = RandomizedSearchCV(\n",
    "        estimator=rf,\n",
    "        param_distributions=param_dist,\n",
    "        n_iter=30,\n",
    "        cv=logo,\n",
    "        scoring=\"neg_root_mean_squared_error\",\n",
    "        n_jobs=-1,\n",
    "        verbose=2,\n",
    "        random_state=seed\n",
    "    )\n",
    "\n",
    "    start = time.time()\n",
    "    search.fit(X, y, groups=groups)\n",
    "    end = time.time()\n",
    "    elapsed = (end - start) / 60.0  # minutes\n",
    "\n",
    "    best_rmse = -search.best_score_\n",
    "    best_params = search.best_params_\n",
    "\n",
    "    print(f\"\\nResults - RF with {tag} feature set\")\n",
    "    print(f\"Best hyperparameters: {best_params}\")\n",
    "    print(f\"Best CV RMSE: {best_rmse:.4f}\")\n",
    "    print(f\"Training time: {elapsed:.2f} minutes\")\n",
    "\n",
    "    return tag, best_rmse, best_params, elapsed\n",
    "\n",
    "\n",
    "# Run all feature sets\n",
    "rf_results = {}\n",
    "timings = {}\n",
    "\n",
    "for tag, X, y, g in [\n",
    "    (\"HSIC\", X_dev_HSIC, y_dev_HSIC, groups_HSIC),\n",
    "    (\"PCC\",  X_dev_PCC,  y_dev_PCC,  groups_PCC),\n",
    "    (\"MI\",   X_dev_MI,   y_dev_MI,   groups_MI),\n",
    "]:\n",
    "    tag, rmse, params, time_min = run_rf_search(tag, X, y, g, seed)\n",
    "    rf_results[tag] = (rmse, params)\n",
    "    timings[tag] = time_min\n"
   ]
  },
  {
   "cell_type": "code",
   "execution_count": null,
   "id": "bd717f17",
   "metadata": {},
   "outputs": [
    {
     "ename": "NameError",
     "evalue": "name 'HSIC_search' is not defined",
     "output_type": "error",
     "traceback": [
      "\u001b[1;31m---------------------------------------------------------------------------\u001b[0m",
      "\u001b[1;31mNameError\u001b[0m                                 Traceback (most recent call last)",
      "Cell \u001b[1;32mIn[1], line 3\u001b[0m\n\u001b[0;32m      1\u001b[0m \u001b[38;5;66;03m# Print best RF model and feature set\u001b[39;00m\n\u001b[0;32m      2\u001b[0m rf_results \u001b[38;5;241m=\u001b[39m {\n\u001b[1;32m----> 3\u001b[0m     \u001b[38;5;124m\"\u001b[39m\u001b[38;5;124mHSIC\u001b[39m\u001b[38;5;124m\"\u001b[39m: (\u001b[38;5;241m-\u001b[39m\u001b[43mHSIC_search\u001b[49m\u001b[38;5;241m.\u001b[39mbest_score_, HSIC_search\u001b[38;5;241m.\u001b[39mbest_params_),\n\u001b[0;32m      4\u001b[0m     \u001b[38;5;124m\"\u001b[39m\u001b[38;5;124mPCC\u001b[39m\u001b[38;5;124m\"\u001b[39m:  (\u001b[38;5;241m-\u001b[39mPCC_search\u001b[38;5;241m.\u001b[39mbest_score_,  PCC_search\u001b[38;5;241m.\u001b[39mbest_params_),\n\u001b[0;32m      5\u001b[0m     \u001b[38;5;124m\"\u001b[39m\u001b[38;5;124mMI\u001b[39m\u001b[38;5;124m\"\u001b[39m:   (\u001b[38;5;241m-\u001b[39mMI_search\u001b[38;5;241m.\u001b[39mbest_score_,   MI_search\u001b[38;5;241m.\u001b[39mbest_params_),\n\u001b[0;32m      6\u001b[0m }\n\u001b[0;32m      8\u001b[0m \u001b[38;5;28mprint\u001b[39m(\u001b[38;5;124m\"\u001b[39m\u001b[38;5;130;01m\\n\u001b[39;00m\u001b[38;5;124mCross-validation RMSE results (Random Forest):\u001b[39m\u001b[38;5;124m\"\u001b[39m)\n\u001b[0;32m      9\u001b[0m \u001b[38;5;28;01mfor\u001b[39;00m name, (rmse, params) \u001b[38;5;129;01min\u001b[39;00m rf_results\u001b[38;5;241m.\u001b[39mitems():\n",
      "\u001b[1;31mNameError\u001b[0m: name 'HSIC_search' is not defined"
     ]
    }
   ],
   "source": [
    "# Print summary leaderboard\n",
    "print(\"\\nCross-validation RMSE results (Random Forest):\")\n",
    "for name, (rmse, params) in rf_results.items():\n",
    "    print(f\"\\n{name} — CV RMSE: {rmse:.4f}\")\n",
    "    print(f\"{name} — Best hyperparameters: {params}\")\n",
    "    print(f\"{name} — Training time: {timings[name]:.2f} minutes\")\n",
    "\n",
    "# Find and print the overall best\n",
    "best_rf_method = min(rf_results, key=lambda k: rf_results[k][0])\n",
    "best_rf_rmse, best_rf_params = rf_results[best_rf_method]\n",
    "\n",
    "print(f\"\\n🏆 Best feature set with RF: {best_rf_method} \"\n",
    "      f\"(CV RMSE = {best_rf_rmse:.4f}, time = {timings[best_rf_method]:.2f} min)\")\n",
    "print(f\"Best RF hyperparameters: {best_rf_params}\")"
   ]
  }
 ],
 "metadata": {
  "kernelspec": {
   "display_name": "base",
   "language": "python",
   "name": "python3"
  },
  "language_info": {
   "codemirror_mode": {
    "name": "ipython",
    "version": 3
   },
   "file_extension": ".py",
   "mimetype": "text/x-python",
   "name": "python",
   "nbconvert_exporter": "python",
   "pygments_lexer": "ipython3",
   "version": "3.12.2"
  }
 },
 "nbformat": 4,
 "nbformat_minor": 5
}
