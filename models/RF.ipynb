{
 "cells": [
  {
   "cell_type": "code",
   "execution_count": 6,
   "id": "2b606976",
   "metadata": {},
   "outputs": [],
   "source": [
    "import sys\n",
    "from pathlib import Path\n",
    "from sklearn.ensemble import RandomForestRegressor\n",
    "from sklearn.model_selection import RandomizedSearchCV, LeaveOneGroupOut\n",
    "import time\n",
    "\n",
    "# Set ROOT path to access other directories in project\n",
    "ROOT = Path.cwd().parent\n",
    "if str(ROOT) not in sys.path:\n",
    "    sys.path.insert(0, str(ROOT))\n",
    "\n",
    "import SnowDepth.data_loader as DL\n",
    "import SnowDepth.data_splitter as DS\n",
    "import SnowDepth.optimal_features as OF\n",
    "from SnowDepth.config import HOLDOUT_AOI\n",
    "from SnowDepth.config import SEED\n",
    "from SnowDepth.config import FEATURE_NAMES"
   ]
  },
  {
   "cell_type": "code",
   "execution_count": 7,
   "id": "b23c368a",
   "metadata": {},
   "outputs": [],
   "source": [
    "# Path to TIFF files\n",
    "data_dir = ROOT/\"data\"/\"tif_files\"\n",
    "\n",
    "# Select holdout AOI\n",
    "holdout_aoi=HOLDOUT_AOI\n",
    "\n",
    "# Select max amount of features to select from FF algos\n",
    "top_k = 10\n",
    "\n",
    "# Load dataframe\n",
    "df = DL.build_df(str(data_dir), drop_invalid=True, upper_threshold=3)\n",
    "\n",
    "# Development dataframe we will use for training models\n",
    "dev_df  = df[df['aoi_name'] != holdout_aoi].copy()"
   ]
  },
  {
   "cell_type": "code",
   "execution_count": 8,
   "id": "4e225db0",
   "metadata": {},
   "outputs": [
    {
     "name": "stdout",
     "output_type": "stream",
     "text": [
      "Block HSIC Lasso B = 20.\n",
      "M set to 3.\n",
      "Using Gaussian kernel for the features, Gaussian kernel for the outcomes.\n",
      "HSIC selected: ['Veg_height', 'IAFE', 'Gamma_VH_RTC', 'cos_Aspect', 'Gamma_VV_RTC', 'Sigma_ratio', 'Beta_VH', 'Gamma_RTC_ratio', 'Elevation', 'Slope']\n",
      "PCC selected: ['Veg_height', 'IAFE', 'cos_Aspect', 'Gamma_VH_RTC', 'Gamma_RTC_ratio', 'sin_Aspect', 'Beta_VH']\n",
      "MI selected): ['IAFE', 'Elevation', 'Veg_height', 'Gamma_VH_RTC', 'Gamma_RTC_sum', 'Gamma_VV_RTC', 'Beta_VH', 'cos_Aspect']\n"
     ]
    }
   ],
   "source": [
    "# Run Feature filtering algorithms\n",
    "ff_algos = OF.optimal_feature_sets(dev_df, top_k=10, n_per_aoi=20000)\n",
    "\n",
    "base_cols = [\"aoi_name\", \"row\", \"col\", \"SD\"]\n",
    "\n",
    "# HSIC\n",
    "dev_df_HSIC  = dev_df[base_cols + ff_algos[\"HSIC\"]].copy()\n",
    "# PCC\n",
    "dev_df_PCC  = dev_df[base_cols + ff_algos[\"PCC\"]].copy()\n",
    "# MI\n",
    "dev_df_MI  = dev_df[base_cols + ff_algos[\"MI\"]].copy()\n",
    "# ALL features (for Ablation study)\n",
    "dev_df_ALL  = dev_df[base_cols + FEATURE_NAMES].copy()"
   ]
  },
  {
   "cell_type": "markdown",
   "id": "de46354d",
   "metadata": {},
   "source": [
    "Split data for training XGBoost"
   ]
  },
  {
   "cell_type": "code",
   "execution_count": 9,
   "id": "7ceda51c",
   "metadata": {},
   "outputs": [
    {
     "name": "stdout",
     "output_type": "stream",
     "text": [
      "Total samples: 50000 across 5 AOIs\n",
      "Features used: ['Veg_height', 'IAFE', 'Gamma_VH_RTC', 'cos_Aspect', 'Gamma_VV_RTC', 'Sigma_ratio', 'Beta_VH', 'Gamma_RTC_ratio', 'Elevation', 'Slope']\n",
      "X_dev shape: (50000, 10)\n",
      "Total samples: 50000 across 5 AOIs\n",
      "Features used: ['Veg_height', 'IAFE', 'cos_Aspect', 'Gamma_VH_RTC', 'Gamma_RTC_ratio', 'sin_Aspect', 'Beta_VH']\n",
      "X_dev shape: (50000, 7)\n",
      "Total samples: 50000 across 5 AOIs\n",
      "Features used: ['IAFE', 'Elevation', 'Veg_height', 'Gamma_VH_RTC', 'Gamma_RTC_sum', 'Gamma_VV_RTC', 'Beta_VH', 'cos_Aspect']\n",
      "X_dev shape: (50000, 8)\n",
      "Total samples: 50000 across 5 AOIs\n",
      "Features used: ['Sigma_VH', 'Sigma_VV', 'Gamma_VH', 'Gamma_VV', 'Beta_VH', 'Beta_VV', 'Gamma_VH_RTC', 'Gamma_VV_RTC', 'Sigma_sum', 'Gamma_sum', 'Beta_sum', 'Gamma_RTC_sum', 'Sigma_diff', 'Gamma_diff', 'Beta_diff', 'Gamma_RTC_diff', 'Sigma_ratio', 'Gamma_ratio', 'Beta_ratio', 'Gamma_RTC_ratio', 'LIA', 'IAFE', 'Elevation', 'Slope', 'sin_Aspect', 'cos_Aspect', 'Veg_height']\n",
      "X_dev shape: (50000, 27)\n"
     ]
    }
   ],
   "source": [
    "# HSIC\n",
    "X_dev_HSIC, y_dev_HSIC, groups_HSIC = DS.ML_split(\n",
    "    dev_df=dev_df_HSIC,\n",
    "    pxs_per_aoi=10000\n",
    ")\n",
    "# PCC\n",
    "X_dev_PCC, y_dev_PCC, groups_PCC = DS.ML_split(\n",
    "    dev_df=dev_df_PCC,\n",
    "    pxs_per_aoi=10000\n",
    ")\n",
    "# MI\n",
    "X_dev_MI, y_dev_MI, groups_MI = DS.ML_split(\n",
    "    dev_df=dev_df_MI,\n",
    "    pxs_per_aoi=10000\n",
    ")\n",
    "# ALL\n",
    "X_dev_ALL, y_dev_ALL, groups_ALL = DS.ML_split(\n",
    "    dev_df=dev_df_ALL,\n",
    "    pxs_per_aoi=10000\n",
    ")"
   ]
  },
  {
   "cell_type": "markdown",
   "id": "44f46901",
   "metadata": {},
   "source": [
    "Train RF and tune hyperparameters"
   ]
  },
  {
   "cell_type": "code",
   "execution_count": 10,
   "id": "974f18b3",
   "metadata": {},
   "outputs": [],
   "source": [
    "from sklearn.ensemble import RandomForestRegressor\n",
    "from sklearn.model_selection import RandomizedSearchCV, LeaveOneGroupOut, cross_validate\n",
    "import numpy as np, time\n",
    "\n",
    "param_dist = {\n",
    "    \"n_estimators\": [200, 300, 400, 600],\n",
    "    \"max_depth\": [12, 14, 16, 18],\n",
    "    \"max_features\": [\"sqrt\", 0.3, 0.5, 3],\n",
    "    \"min_samples_leaf\": [2, 5, 10, 20, 50, 0.005, 0.01],\n",
    "    \"max_samples\": [0.3, 0.5],\n",
    "}\n",
    "\n",
    "def run_rf_search(tag, X, y, groups, n_iter=30, seed=SEED):\n",
    "    rf = RandomForestRegressor(\n",
    "        random_state=seed,\n",
    "        bootstrap=True,\n",
    "        n_jobs=-1\n",
    "    )\n",
    "    logo = LeaveOneGroupOut()\n",
    "    search = RandomizedSearchCV(\n",
    "        estimator=rf,\n",
    "        param_distributions=param_dist,\n",
    "        n_iter=n_iter,\n",
    "        cv=logo,\n",
    "        scoring=\"neg_root_mean_squared_error\",  # select by RMSE\n",
    "        n_jobs=-1,\n",
    "        verbose=2,\n",
    "        random_state=seed,\n",
    "        refit=True\n",
    "    )\n",
    "\n",
    "    t0 = time.time()\n",
    "    search.fit(X, y, groups=groups)\n",
    "    elapsed = (time.time() - t0) / 60.0\n",
    "\n",
    "    best_rmse = -search.best_score_\n",
    "    best_params = search.best_params_\n",
    "\n",
    "    # With best hyperparams, compute both RMSE and MAE via cross-validate\n",
    "    best_rf = RandomForestRegressor(**best_params, random_state=seed, n_jobs=-1, bootstrap=True)\n",
    "    scores = cross_validate(\n",
    "        best_rf, X, y, groups=groups, cv=logo, n_jobs=-1, verbose=0,\n",
    "        scoring={\n",
    "            \"rmse\": \"neg_root_mean_squared_error\",\n",
    "            \"mae\":  \"neg_mean_absolute_error\",\n",
    "        }\n",
    "    )\n",
    "    cv_rmse = -np.mean(scores[\"test_rmse\"])\n",
    "    cv_mae  = -np.mean(scores[\"test_mae\"])\n",
    "\n",
    "    print(f\"\\nResults - RF with {tag} feature set\")\n",
    "    print(f\"Best hyperparameters: {best_params}\")\n",
    "    print(f\"Best CV RMSE (search score): {best_rmse:.4f}\")\n",
    "    print(f\"Cross-validated (re-fit) RMSE: {cv_rmse:.4f} | MAE: {cv_mae:.4f}\")\n",
    "    print(f\"Training time: {elapsed:.2f} minutes\")\n",
    "\n",
    "    return tag, cv_rmse, cv_mae, best_params, elapsed\n"
   ]
  },
  {
   "cell_type": "code",
   "execution_count": 11,
   "id": "bd717f17",
   "metadata": {},
   "outputs": [
    {
     "name": "stdout",
     "output_type": "stream",
     "text": [
      "Fitting 5 folds for each of 30 candidates, totalling 150 fits\n",
      "\n",
      "Results - RF with HSIC feature set\n",
      "Best hyperparameters: {'n_estimators': 300, 'min_samples_leaf': 10, 'max_samples': 0.5, 'max_features': 0.5, 'max_depth': 18}\n",
      "Best CV RMSE (search score): 0.4871\n",
      "Cross-validated (re-fit) RMSE: 0.4871 | MAE: 0.4107\n",
      "Training time: 4.85 minutes\n",
      "Fitting 5 folds for each of 30 candidates, totalling 150 fits\n",
      "\n",
      "Results - RF with PCC feature set\n",
      "Best hyperparameters: {'n_estimators': 300, 'min_samples_leaf': 20, 'max_samples': 0.5, 'max_features': 0.3, 'max_depth': 14}\n",
      "Best CV RMSE (search score): 0.4906\n",
      "Cross-validated (re-fit) RMSE: 0.4906 | MAE: 0.4081\n",
      "Training time: 3.64 minutes\n",
      "Fitting 5 folds for each of 30 candidates, totalling 150 fits\n",
      "\n",
      "Results - RF with MI feature set\n",
      "Best hyperparameters: {'n_estimators': 200, 'min_samples_leaf': 5, 'max_samples': 0.5, 'max_features': 3, 'max_depth': 16}\n",
      "Best CV RMSE (search score): 0.4930\n",
      "Cross-validated (re-fit) RMSE: 0.4930 | MAE: 0.4158\n",
      "Training time: 3.73 minutes\n",
      "Fitting 5 folds for each of 30 candidates, totalling 150 fits\n",
      "\n",
      "Results - RF with ALL feature set\n",
      "Best hyperparameters: {'n_estimators': 300, 'min_samples_leaf': 10, 'max_samples': 0.5, 'max_features': 0.5, 'max_depth': 18}\n",
      "Best CV RMSE (search score): 0.4883\n",
      "Cross-validated (re-fit) RMSE: 0.4883 | MAE: 0.4123\n",
      "Training time: 9.36 minutes\n"
     ]
    }
   ],
   "source": [
    "rf_results = {}  # tag -> (rmse, mae, params)\n",
    "timings = {}\n",
    "\n",
    "for tag, X, y, g in [\n",
    "    (\"HSIC\", X_dev_HSIC, y_dev_HSIC, groups_HSIC),\n",
    "    (\"PCC\",  X_dev_PCC,  y_dev_PCC,  groups_PCC),\n",
    "    (\"MI\",   X_dev_MI,   y_dev_MI,   groups_MI),\n",
    "    (\"ALL\",  X_dev_ALL,  y_dev_ALL,  groups_ALL),  # include ALL-features set\n",
    "]:\n",
    "    tag, rmse, mae, params, tmin = run_rf_search(tag, X, y, g)\n",
    "    rf_results[tag] = (rmse, mae, params)\n",
    "    timings[tag] = tmin\n"
   ]
  },
  {
   "cell_type": "code",
   "execution_count": 12,
   "id": "8d98e02f",
   "metadata": {},
   "outputs": [
    {
     "name": "stdout",
     "output_type": "stream",
     "text": [
      "\n",
      "Cross-validation results (Random Forest):\n",
      "\n",
      "HSIC — CV RMSE: 0.4871 | CV MAE: 0.4107\n",
      "HSIC — Best hyperparameters: {'n_estimators': 300, 'min_samples_leaf': 10, 'max_samples': 0.5, 'max_features': 0.5, 'max_depth': 18}\n",
      "HSIC — Training time: 4.85 minutes\n",
      "\n",
      "PCC — CV RMSE: 0.4906 | CV MAE: 0.4081\n",
      "PCC — Best hyperparameters: {'n_estimators': 300, 'min_samples_leaf': 20, 'max_samples': 0.5, 'max_features': 0.3, 'max_depth': 14}\n",
      "PCC — Training time: 3.64 minutes\n",
      "\n",
      "MI — CV RMSE: 0.4930 | CV MAE: 0.4158\n",
      "MI — Best hyperparameters: {'n_estimators': 200, 'min_samples_leaf': 5, 'max_samples': 0.5, 'max_features': 3, 'max_depth': 16}\n",
      "MI — Training time: 3.73 minutes\n",
      "\n",
      "ALL — CV RMSE: 0.4883 | CV MAE: 0.4123\n",
      "ALL — Best hyperparameters: {'n_estimators': 300, 'min_samples_leaf': 10, 'max_samples': 0.5, 'max_features': 0.5, 'max_depth': 18}\n",
      "ALL — Training time: 9.36 minutes\n",
      "\n",
      "Best feature set with RF: HSIC (CV RMSE = 0.4871, CV MAE = 0.4107, time = 4.85 min)\n",
      "Best RF hyperparameters: {'n_estimators': 300, 'min_samples_leaf': 10, 'max_samples': 0.5, 'max_features': 0.5, 'max_depth': 18}\n"
     ]
    }
   ],
   "source": [
    "print(\"\\nCross-validation results (Random Forest):\")\n",
    "for name, (rmse, mae, params) in rf_results.items():\n",
    "    print(f\"\\n{name} — CV RMSE: {rmse:.4f} | CV MAE: {mae:.4f}\")\n",
    "    print(f\"{name} — Best hyperparameters: {params}\")\n",
    "    print(f\"{name} — Training time: {timings[name]:.2f} minutes\")\n",
    "\n",
    "best_rf_method = min(rf_results, key=lambda k: rf_results[k][0])\n",
    "best_rf_rmse, best_rf_mae, best_rf_params = rf_results[best_rf_method]\n",
    "\n",
    "print(f\"\\nBest feature set with RF: {best_rf_method} \"\n",
    "      f\"(CV RMSE = {best_rf_rmse:.4f}, CV MAE = {best_rf_mae:.4f}, \"\n",
    "      f\"time = {timings[best_rf_method]:.2f} min)\")\n",
    "print(f\"Best RF hyperparameters: {best_rf_params}\")\n"
   ]
  }
 ],
 "metadata": {
  "kernelspec": {
   "display_name": "base",
   "language": "python",
   "name": "python3"
  },
  "language_info": {
   "codemirror_mode": {
    "name": "ipython",
    "version": 3
   },
   "file_extension": ".py",
   "mimetype": "text/x-python",
   "name": "python",
   "nbconvert_exporter": "python",
   "pygments_lexer": "ipython3",
   "version": "3.12.2"
  }
 },
 "nbformat": 4,
 "nbformat_minor": 5
}
