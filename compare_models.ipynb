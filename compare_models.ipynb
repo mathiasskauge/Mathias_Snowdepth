{
 "cells": [
  {
   "cell_type": "code",
   "execution_count": null,
   "id": "0e600c3c",
   "metadata": {},
   "outputs": [],
   "source": [
    "import SnowDepth as SD\n",
    "\n",
    "# --- Set necessary variables ---\n",
    "\n",
    "# Path to TIFF files\n",
    "data_dir = \"data/tif_files\"\n",
    "\n",
    "# Assign seed\n",
    "seed = 18"
   ]
  },
  {
   "cell_type": "code",
   "execution_count": null,
   "id": "218b3708",
   "metadata": {},
   "outputs": [
    {
     "name": "stdout",
     "output_type": "stream",
     "text": [
      "Features used for modeling: ['VH_dB', 'VV_dB']\n",
      "X_train shape: (8400, 2)\n",
      "X_val shape: (3600, 2)\n",
      "X_test shape: (1664925, 2)\n"
     ]
    }
   ],
   "source": [
    "''' Build dataframe and split data for RF baseline '''\n",
    "\n",
    "full_df = SD.data_loader.build_dataframe(data_dir)\n",
    "\n",
    "(X_train, y_train), (X_val, y_val), (X_hold, y_hold) = SD.data_splitter.duggal_RF_split(\n",
    "    df=full_df,\n",
    "    holdout_aoi=\"ID_BS\",\n",
    "    seed=seed,\n",
    "    features=[0, 1],\n",
    "    pxs_per_aoi=3000\n",
    ")"
   ]
  },
  {
   "cell_type": "code",
   "execution_count": null,
   "id": "e02a8d4f",
   "metadata": {},
   "outputs": [],
   "source": []
  }
 ],
 "metadata": {
  "kernelspec": {
   "display_name": "base",
   "language": "python",
   "name": "python3"
  },
  "language_info": {
   "codemirror_mode": {
    "name": "ipython",
    "version": 3
   },
   "file_extension": ".py",
   "mimetype": "text/x-python",
   "name": "python",
   "nbconvert_exporter": "python",
   "pygments_lexer": "ipython3",
   "version": "3.12.2"
  }
 },
 "nbformat": 4,
 "nbformat_minor": 5
}
