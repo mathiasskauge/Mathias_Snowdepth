{
 "cells": [
  {
   "cell_type": "code",
   "execution_count": 1,
   "id": "9d6a545d",
   "metadata": {},
   "outputs": [],
   "source": [
    "import os\n",
    "import h5py\n",
    "import numpy as np\n",
    "import tensorflow as tf\n",
    "import SnowDepth.architecture as ARCH\n",
    "from SnowDepth.config import HOLDOUT_AOI"
   ]
  },
  {
   "cell_type": "code",
   "execution_count": 3,
   "id": "1a4f25cf",
   "metadata": {},
   "outputs": [],
   "source": [
    "h5_path = \"h5_dir/HSIC/data_HSIC.h5\"\n",
    "holdout_aoi = HOLDOUT_AOI\n",
    "FINAL_NORM = \"models/UNet_weights_and_norm/best_norm_stats.npz\"\n",
    "FINAL_WEIGHTS = \"models/UNet_weights_and_norm/unet_best.weights.h5\"\n",
    "\n",
    "# Same as training\n",
    "PATCH_SIZE = 128\n",
    "MIN_VALID_FRAC = 0.80\n",
    "LR = 1e-3"
   ]
  }
 ],
 "metadata": {
  "kernelspec": {
   "display_name": "base",
   "language": "python",
   "name": "python3"
  },
  "language_info": {
   "codemirror_mode": {
    "name": "ipython",
    "version": 3
   },
   "file_extension": ".py",
   "mimetype": "text/x-python",
   "name": "python",
   "nbconvert_exporter": "python",
   "pygments_lexer": "ipython3",
   "version": "3.12.2"
  }
 },
 "nbformat": 4,
 "nbformat_minor": 5
}
