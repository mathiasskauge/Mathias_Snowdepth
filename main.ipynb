{
 "cells": [
  {
   "cell_type": "code",
   "execution_count": 2,
   "id": "9d6a545d",
   "metadata": {},
   "outputs": [],
   "source": [
    "import os\n",
    "import h5py\n",
    "import numpy as np\n",
    "import tensorflow as tf\n",
    "import SnowDepth.architecture as ARCH\n",
    "import SnowDepth.data_splitter as DS\n",
    "import SnowDepth.evaluation as EVAL\n",
    "from SnowDepth.config import HOLDOUT_AOI"
   ]
  },
  {
   "cell_type": "code",
   "execution_count": 3,
   "id": "1a4f25cf",
   "metadata": {},
   "outputs": [],
   "source": [
    "# Path to the best models artifacts, which was saved during training\n",
    "\n",
    "h5_path = \"data/h5_dir/HSIC/data_HSIC.h5\"\n",
    "holdout_aoi = HOLDOUT_AOI\n",
    "FINAL_NORM = \"models/UNet_weights_and_norm/best_norm_stats.npz\"\n",
    "FINAL_WEIGHTS = \"models/UNet_weights_and_norm/unet_best.weights.h5\""
   ]
  },
  {
   "cell_type": "code",
   "execution_count": 4,
   "id": "5d5dc0f7",
   "metadata": {},
   "outputs": [
    {
     "name": "stdout",
     "output_type": "stream",
     "text": [
      "Model + weights loaded.\n"
     ]
    },
    {
     "name": "stderr",
     "output_type": "stream",
     "text": [
      "c:\\Users\\mathi\\miniconda3\\Lib\\site-packages\\keras\\src\\saving\\saving_lib.py:757: UserWarning: Skipping variable loading for optimizer 'adam', because it has 2 variables whereas the saved optimizer has 130 variables. \n",
      "  saveable.load_own_variables(weights_store.get(inner_path))\n"
     ]
    }
   ],
   "source": [
    "# Same as training\n",
    "PATCH_SIZE = 128\n",
    "LR = 1e-3\n",
    "STRIDE = PATCH_SIZE\n",
    "\n",
    "with np.load(FINAL_NORM) as f:\n",
    "    mu, sigma = f[\"mean\"], f[\"std\"]\n",
    "\n",
    "with h5py.File(h5_path, \"r\") as hf:\n",
    "    C = hf[holdout_aoi][\"features\"].shape[-1]\n",
    "\n",
    "model = ARCH.unet(input_shape=(PATCH_SIZE, PATCH_SIZE, C), base_filters=32)\n",
    "model.compile(\n",
    "    optimizer=tf.keras.optimizers.Adam(learning_rate=LR),\n",
    "    loss=tf.keras.losses.Huber(delta=1.0),\n",
    "    metrics=[tf.keras.metrics.MeanAbsoluteError(name=\"MAE\")]\n",
    ")\n",
    "model.load_weights(FINAL_WEIGHTS)\n",
    "print(\"Model + weights loaded.\")"
   ]
  },
  {
   "cell_type": "code",
   "execution_count": 5,
   "id": "df731658",
   "metadata": {},
   "outputs": [],
   "source": [
    "# Get the holdout AOI data, with all tiles (no min_valid_frac)\n",
    "\n",
    "(_, _, _), (_, _, _), (X_hold, y_hold, m_hold) = DS.DL_split(\n",
    "    h5_path=h5_path,\n",
    "    holdout_aoi=holdout_aoi,\n",
    "    val_fraction=0.10,\n",
    "    patch_size=PATCH_SIZE,\n",
    "    stride=PATCH_SIZE,      \n",
    "    min_valid_frac=0\n",
    ")"
   ]
  },
  {
   "cell_type": "code",
   "execution_count": 6,
   "id": "0530c146",
   "metadata": {},
   "outputs": [
    {
     "name": "stdout",
     "output_type": "stream",
     "text": [
      "Holdout (tiles only): {'MAE': 0.6526486827698955, 'RMSE': 0.8039480577502189, 'R2': -0.8842022791075037, 'count': 237438.0}\n"
     ]
    }
   ],
   "source": [
    "scores = EVAL.evaluate_tiles(\n",
    "    X_hold, y_hold, m_hold,\n",
    "    model=model, mu=mu, sigma=sigma,\n",
    "    batch_size=4,\n",
    ")\n",
    "print(\"Holdout (tiles only):\", scores)"
   ]
  }
 ],
 "metadata": {
  "kernelspec": {
   "display_name": "base",
   "language": "python",
   "name": "python3"
  },
  "language_info": {
   "codemirror_mode": {
    "name": "ipython",
    "version": 3
   },
   "file_extension": ".py",
   "mimetype": "text/x-python",
   "name": "python",
   "nbconvert_exporter": "python",
   "pygments_lexer": "ipython3",
   "version": "3.12.2"
  }
 },
 "nbformat": 4,
 "nbformat_minor": 5
}
